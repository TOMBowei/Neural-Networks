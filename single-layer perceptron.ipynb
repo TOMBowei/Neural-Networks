{
 "cells": [
  {
   "cell_type": "code",
   "execution_count": 1,
   "id": "6d9d05c3",
   "metadata": {
    "ExecuteTime": {
     "end_time": "2022-01-27T19:25:45.741525Z",
     "start_time": "2022-01-27T19:25:42.603420Z"
    }
   },
   "outputs": [],
   "source": [
    "import numpy as np\n",
    "import random\n",
    "import itertools\n",
    "import matplotlib.pyplot as plt\n",
    "from PIL import Image\n",
    "import torch\n",
    "import torch.nn as nn\n",
    "import torch.optim as optim\n",
    "import torch.nn.functional as F\n",
    "from matplotlib.lines import Line2D\n",
    "import pandas as pd\n",
    "from torch.autograd import Variable"
   ]
  },
  {
   "cell_type": "markdown",
   "id": "e13d25c2",
   "metadata": {},
   "source": [
    "# Design and build a simple dataset X of for character recognition of 10 16x16-pixel images of well-formed typeset (not handwritten) digits 0 through 9  (256 pixels per image) from online exemplars."
   ]
  },
  {
   "cell_type": "code",
   "execution_count": 2,
   "id": "7913a80c",
   "metadata": {
    "ExecuteTime": {
     "end_time": "2022-01-27T19:25:45.827205Z",
     "start_time": "2022-01-27T19:25:45.770324Z"
    }
   },
   "outputs": [
    {
     "data": {
      "image/png": "[encoded data removed]",
      "text/plain": [
       "<PIL.PngImagePlugin.PngImageFile image mode=RGBA size=49x62 at 0x108129A30>"
      ]
     },
     "execution_count": 2,
     "metadata": {},
     "output_type": "execute_result"
    }
   ],
   "source": [
    "# Read image file\n",
    "im0 = Image.open('train_dataset/0.png')\n",
    "im1 = Image.open('train_dataset/1.png')\n",
    "im2 = Image.open('train_dataset/2.png')\n",
    "im3 = Image.open('train_dataset/3.png')\n",
    "im4 = Image.open('train_dataset/4.png')\n",
    "im5 = Image.open('train_dataset/5.png')\n",
    "im6 = Image.open('train_dataset/6.png')\n",
    "im7 = Image.open('train_dataset/7.png')\n",
    "im8 = Image.open('train_dataset/8.png')\n",
    "im9 = Image.open('train_dataset/9.png')\n",
    "im0"
   ]
  },
  {
   "cell_type": "code",
   "execution_count": 3,
   "id": "75cb1dcd",
   "metadata": {
    "ExecuteTime": {
     "end_time": "2022-01-27T19:25:48.385754Z",
     "start_time": "2022-01-27T19:25:48.368097Z"
    }
   },
   "outputs": [],
   "source": [
    "# Resize images\n",
    "# reshape the image to 16x16-pixel\n",
    "im0 = im0.resize((16,16))\n",
    "# change the RGB image to binaryzation.\n",
    "im0 = im0.convert('1')\n",
    "\n",
    "im1 = im1.resize((16,16))\n",
    "im1 = im1.convert('1')\n",
    "\n",
    "im2 = im2.resize((16,16))\n",
    "im2 = im2.convert('1')\n",
    "\n",
    "im3 = im3.resize((16,16))\n",
    "im3 = im3.convert('1')\n",
    "\n",
    "\n",
    "im4 = im4.resize((16,16))\n",
    "im4 = im4.convert('1')\n",
    "\n",
    "im5 = im5.resize((16,16))\n",
    "im5 = im5.convert('1')\n",
    "\n",
    "\n",
    "im6 = im6.resize((16,16))\n",
    "im6 = im6.convert('1')\n",
    "\n",
    "im7 = im7.resize((16,16))\n",
    "im7 = im7.convert('1')\n",
    "\n",
    "im8 = im8.resize((16,16))\n",
    "im8 = im8.convert('1')\n",
    "\n",
    "im9 = im9.resize((16,16))\n",
    "im9 = im9.convert('1')"
   ]
  },
  {
   "cell_type": "code",
   "execution_count": 4,
   "id": "1a964483",
   "metadata": {
    "ExecuteTime": {
     "end_time": "2022-01-27T19:25:49.799925Z",
     "start_time": "2022-01-27T19:25:49.783895Z"
    }
   },
   "outputs": [
    {
     "data": {
      "text/plain": [
       "(16, 16)"
      ]
     },
     "execution_count": 4,
     "metadata": {},
     "output_type": "execute_result"
    }
   ],
   "source": [
    "# Binaryzate image\n",
    "pixel_0 = np.array(im0)\n",
    "pixel_1 = np.array(im1)\n",
    "pixel_2 = np.array(im2)\n",
    "pixel_3 = np.array(im3)\n",
    "pixel_4 = np.array(im4)\n",
    "pixel_5 = np.array(im5)\n",
    "pixel_6 = np.array(im6)\n",
    "pixel_7 = np.array(im7)\n",
    "pixel_8 = np.array(im8)\n",
    "pixel_9 = np.array(im9)\n",
    "\n",
    "# Making data type from bool to float32. By using the double-precision computation, we can get a better accuracy.\n",
    "pixel_0 = pixel_0.astype(np.float32)\n",
    "pixel_1 = pixel_1.astype(np.float32)\n",
    "pixel_2 = pixel_2.astype(np.float32)\n",
    "pixel_3 = pixel_3.astype(np.float32)\n",
    "pixel_4 = pixel_4.astype(np.float32)\n",
    "pixel_5 = pixel_5.astype(np.float32)\n",
    "pixel_6 = pixel_6.astype(np.float32)\n",
    "pixel_7 = pixel_7.astype(np.float32)\n",
    "pixel_8 = pixel_8.astype(np.float32)\n",
    "pixel_9 = pixel_9.astype(np.float32)\n",
    "pixel_0.shape"
   ]
  },
  {
   "cell_type": "code",
   "execution_count": 5,
   "id": "3ec32cbf",
   "metadata": {
    "ExecuteTime": {
     "end_time": "2022-01-27T19:25:54.024673Z",
     "start_time": "2022-01-27T19:25:53.317809Z"
    }
   },
   "outputs": [
    {
     "data": {
      "image/png": "[encoded data removed]",
      "text/plain": [
       "<Figure size 1152x1152 with 10 Axes>"
      ]
     },
     "metadata": {
      "needs_background": "light"
     },
     "output_type": "display_data"
    }
   ],
   "source": [
    "# Build dataset\n",
    "dataset = np.ndarray(shape=(10, 1, 16, 16), dtype = np.float32)\n",
    "dataset[0] = pixel_0\n",
    "dataset[1] = pixel_1\n",
    "dataset[2] = pixel_2\n",
    "dataset[3] = pixel_3\n",
    "dataset[4] = pixel_4\n",
    "dataset[5] = pixel_5\n",
    "dataset[6] = pixel_6\n",
    "dataset[7] = pixel_7\n",
    "dataset[8] = pixel_8\n",
    "dataset[9] = pixel_9\n",
    "\n",
    "# reshape dataset from (10, 1, 16, 16) 变为 (10, 1, 16x16)\n",
    "dataset_reshaped = np.ndarray(shape=(10,1,256), dtype = np.float32)\n",
    "dataset_reshaped[0] = dataset[0].reshape(1,256)\n",
    "dataset_reshaped[1] = dataset[1].reshape(1,256)\n",
    "dataset_reshaped[2] = dataset[2].reshape(1,256)\n",
    "dataset_reshaped[3] = dataset[3].reshape(1,256)\n",
    "dataset_reshaped[4] = dataset[4].reshape(1,256)\n",
    "dataset_reshaped[5] = dataset[5].reshape(1,256)\n",
    "dataset_reshaped[6] = dataset[6].reshape(1,256)\n",
    "dataset_reshaped[7] = dataset[7].reshape(1,256)\n",
    "dataset_reshaped[8] = dataset[8].reshape(1,256)\n",
    "dataset_reshaped[9] = dataset[9].reshape(1,256)\n",
    "\n",
    "# show the images in the dataset.\n",
    "(fig, axes) = plt.subplots(1, 10 ,figsize=(16,16))\n",
    "fig.subplots_adjust(hspace=0.3, wspace=0.05)\n",
    "for (idx, ax) in enumerate (axes):\n",
    "    ax.imshow(dataset[idx, 0], cmap='gray', interpolation='nearest', vmin=0, vmax=1)"
   ]
  },
  {
   "cell_type": "code",
   "execution_count": 6,
   "id": "273bd036",
   "metadata": {
    "ExecuteTime": {
     "end_time": "2022-01-27T19:25:55.142636Z",
     "start_time": "2022-01-27T19:25:55.134963Z"
    }
   },
   "outputs": [
    {
     "data": {
      "text/plain": [
       "(10, 1, 256)"
      ]
     },
     "execution_count": 6,
     "metadata": {},
     "output_type": "execute_result"
    }
   ],
   "source": [
    "# label all images in dataset\n",
    "labels = np.array(['0', '1', '2', '3', '4', '5', '6', '7', '8','9'])\n",
    "# build training dataset by using the dataset\n",
    "dataset_train  = dataset_reshaped\n",
    "labels_train  = labels\n",
    "dataset_train.shape"
   ]
  },
  {
   "cell_type": "code",
   "execution_count": 7,
   "id": "16151ca6",
   "metadata": {
    "ExecuteTime": {
     "end_time": "2022-01-27T19:00:00.071288Z",
     "start_time": "2022-01-27T18:59:59.445739Z"
    },
    "scrolled": true
   },
   "outputs": [
    {
     "data": {
      "image/png": "[encoded data removed]",
      "text/plain": [
       "<Figure size 1152x1152 with 10 Axes>"
      ]
     },
     "metadata": {
      "needs_background": "light"
     },
     "output_type": "display_data"
    }
   ],
   "source": [
    "# display all images in the training dataset. At this point, training dataset is equal to dataset\n",
    "(fig, axes) = plt.subplots(1, 10 ,figsize=(16,16))\n",
    "fig.subplots_adjust(hspace=0.3, wspace=0.05)\n",
    "for (i, ax) in enumerate(axes):\n",
    "    ax.imshow(dataset[i,0], cmap='gray', interpolation='nearest', vmin=0, vmax=1)"
   ]
  },
  {
   "cell_type": "markdown",
   "id": "9e03704e",
   "metadata": {},
   "source": [
    "# Design and develop a single-layer perceptron (SLP) in Python, using librarie PyTorch."
   ]
  },
  {
   "cell_type": "code",
   "execution_count": 8,
   "id": "0f71b6aa",
   "metadata": {
    "ExecuteTime": {
     "end_time": "2022-01-27T19:27:06.233993Z",
     "start_time": "2022-01-27T19:27:06.227242Z"
    }
   },
   "outputs": [],
   "source": [
    "# Construct a fully-connected network using torch.nn.Sequential. \n",
    "# This container first uses nn.Linear as input, and then use the output of nn.Linear as the input of nn.Sigmoid().\n",
    "# Sigmoid() used as a activation function in neural networks to map variables between 0 and 1.\n",
    "training_model = torch.nn.Sequential(nn.Linear(256, 256), nn.Sigmoid())\n",
    "# Use Adam as our optimization method\n",
    "optimizer = optim.Adam(training_model.parameters(), lr=1e-3)\n",
    "# Eliminate the effect of random number\n",
    "np.random.seed(0)\n",
    "torch.manual_seed(0)\n",
    "# Mean-Square-Zero (MSE) Loss function\n",
    "criterion = nn.MSELoss()\n",
    "all_loss = []"
   ]
  },
  {
   "cell_type": "markdown",
   "id": "ef41da1f",
   "metadata": {},
   "source": [
    "# Train SLP on the 10 images that comprise the dataset developed in Step 1. Testing SLP to ensure it functions correctly as an autoassociative memory."
   ]
  },
  {
   "cell_type": "markdown",
   "id": "d6b61b47",
   "metadata": {},
   "source": [
    "## Preliminary tests to decide the number of training epochs"
   ]
  },
  {
   "cell_type": "markdown",
   "id": "18832907",
   "metadata": {
    "ExecuteTime": {
     "end_time": "2022-01-27T04:01:55.519248Z",
     "start_time": "2022-01-27T04:01:55.515718Z"
    }
   },
   "source": [
    "### epoch = 1"
   ]
  },
  {
   "cell_type": "code",
   "execution_count": 9,
   "id": "7935f412",
   "metadata": {
    "ExecuteTime": {
     "end_time": "2022-01-27T04:02:37.555167Z",
     "start_time": "2022-01-27T04:02:37.544157Z"
    }
   },
   "outputs": [
    {
     "name": "stdout",
     "output_type": "stream",
     "text": [
      "Epoch: 0 --- Loss: 0.2747262120246887\n"
     ]
    }
   ],
   "source": [
    "# Begin training\n",
    "epochs = 1\n",
    "for epoch in range(epochs):\n",
    "#   Change numpy to tensor\n",
    "    input_data = torch.from_numpy(dataset_train)\n",
    "    output_data = torch.from_numpy(dataset_train)\n",
    "#   Prediction \n",
    "    predict_out = training_model(input_data)\n",
    "    loss = criterion(predict_out, output_data)\n",
    "#   Sampling\n",
    "    if epoch <= 10 :\n",
    "        print(\"Epoch: \" + str(epoch) + \" --- \"+ \"Loss: \" + str(loss.item()))\n",
    "    all_loss.append(loss)\n",
    "    optimizer.zero_grad()\n",
    "#   Backward propagation\n",
    "    loss.backward()\n",
    "    optimizer.step()"
   ]
  },
  {
   "cell_type": "code",
   "execution_count": 10,
   "id": "5592c35f",
   "metadata": {
    "ExecuteTime": {
     "end_time": "2022-01-27T04:03:14.502936Z",
     "start_time": "2022-01-27T04:03:13.789594Z"
    }
   },
   "outputs": [
    {
     "data": {
      "image/png": "[encoded data removed]",
      "text/plain": [
       "<Figure size 1152x1152 with 10 Axes>"
      ]
     },
     "metadata": {
      "needs_background": "light"
     },
     "output_type": "display_data"
    }
   ],
   "source": [
    "# test SLP to ensure it functions correctly as an autoassociative memory\n",
    "# output the test results\n",
    "fig, axes = plt.subplots(1, 10, figsize=(16, 16))\n",
    "fig.subplots_adjust(hspace=0.3, wspace=0.05)\n",
    "for idx , data in enumerate(dataset_train):\n",
    "    input_data = torch.from_numpy(data)\n",
    "    output_data = training_model(input_data)\n",
    "#   binaryzation 1 for white, 0 for black\n",
    "#   mask\n",
    "    output_data[output_data > 0.5] = 1\n",
    "    output_data[output_data <= 0.5] = 0\n",
    "#   change tensor data to numpy data in order to construct the image\n",
    "    output_image = output_data.detach().numpy()\n",
    "    output_image = output_image.reshape(16,16)\n",
    "    ax = axes.flatten()[idx]\n",
    "    ax.imshow(output_image, cmap='gray', interpolation='nearest')  "
   ]
  },
  {
   "cell_type": "markdown",
   "id": "eba24dec",
   "metadata": {},
   "source": [
    "### epoch = 10"
   ]
  },
  {
   "cell_type": "code",
   "execution_count": 11,
   "id": "0ffee864",
   "metadata": {
    "ExecuteTime": {
     "end_time": "2022-01-27T04:25:01.866568Z",
     "start_time": "2022-01-27T04:25:01.846049Z"
    }
   },
   "outputs": [
    {
     "name": "stdout",
     "output_type": "stream",
     "text": [
      "Epoch: 0 --- Loss: 0.24809542298316956\n",
      "Epoch: 1 --- Loss: 0.2246008664369583\n",
      "Epoch: 2 --- Loss: 0.2043733149766922\n",
      "Epoch: 3 --- Loss: 0.1873280555009842\n",
      "Epoch: 4 --- Loss: 0.1732148677110672\n",
      "Epoch: 5 --- Loss: 0.16167744994163513\n",
      "Epoch: 6 --- Loss: 0.1523124873638153\n",
      "Epoch: 7 --- Loss: 0.1447177529335022\n",
      "Epoch: 8 --- Loss: 0.13852396607398987\n",
      "Epoch: 9 --- Loss: 0.13341152667999268\n"
     ]
    }
   ],
   "source": [
    "# Begin training\n",
    "epochs = 10\n",
    "for epoch in range(epochs):\n",
    "#   Change numpy to tensor\n",
    "    input_data = torch.from_numpy(dataset_train)\n",
    "    output_data = torch.from_numpy(dataset_train)\n",
    "#   Prediction \n",
    "    predict_out = training_model(input_data)\n",
    "    loss = criterion(predict_out, output_data)\n",
    "#   Sampling\n",
    "    if epoch <= 10 :\n",
    "        print(\"Epoch: \" + str(epoch) + \" --- \"+ \"Loss: \" + str(loss.item()))\n",
    "    all_loss.append(loss)\n",
    "    optimizer.zero_grad()\n",
    "#   Backward propagation\n",
    "    loss.backward()\n",
    "    optimizer.step()"
   ]
  },
  {
   "cell_type": "code",
   "execution_count": 12,
   "id": "f91310f6",
   "metadata": {
    "ExecuteTime": {
     "end_time": "2022-01-27T04:25:04.363725Z",
     "start_time": "2022-01-27T04:25:03.711718Z"
    }
   },
   "outputs": [
    {
     "data": {
      "image/png": "[encoded data removed]",
      "text/plain": [
       "<Figure size 1152x1152 with 10 Axes>"
      ]
     },
     "metadata": {
      "needs_background": "light"
     },
     "output_type": "display_data"
    }
   ],
   "source": [
    "# test SLP to ensure it functions correctly as an autoassociative memory\n",
    "# output the test results\n",
    "fig, axes = plt.subplots(1, 10, figsize=(16, 16))\n",
    "fig.subplots_adjust(hspace=0.3, wspace=0.05)\n",
    "for idx , data in enumerate(dataset_train):\n",
    "    input_data = torch.from_numpy(data)\n",
    "    output_data = training_model(input_data)\n",
    "#   binaryzation 1 for white, 0 for black\n",
    "#   mask\n",
    "    output_data[output_data > 0.5] = 1\n",
    "    output_data[output_data <= 0.5] = 0\n",
    "#   change tensor data to numpy data in order to construct the image\n",
    "    output_image = output_data.detach().numpy()\n",
    "    output_image = output_image.reshape(16,16)\n",
    "    ax = axes.flatten()[idx]\n",
    "    ax.imshow(output_image, cmap='gray', interpolation='nearest')"
   ]
  },
  {
   "cell_type": "markdown",
   "id": "007e8d58",
   "metadata": {},
   "source": [
    "### epoch = 100"
   ]
  },
  {
   "cell_type": "code",
   "execution_count": 13,
   "id": "c6159651",
   "metadata": {
    "ExecuteTime": {
     "end_time": "2022-01-27T04:27:55.636091Z",
     "start_time": "2022-01-27T04:27:55.544477Z"
    }
   },
   "outputs": [
    {
     "name": "stdout",
     "output_type": "stream",
     "text": [
      "Epoch: 0 --- Loss: 0.1291162520647049\n",
      "Epoch: 10 --- Loss: 0.10327708721160889\n",
      "Epoch: 20 --- Loss: 0.08497106283903122\n",
      "Epoch: 30 --- Loss: 0.0697062537074089\n",
      "Epoch: 40 --- Loss: 0.05741431191563606\n",
      "Epoch: 50 --- Loss: 0.0474204421043396\n",
      "Epoch: 60 --- Loss: 0.03929341956973076\n",
      "Epoch: 70 --- Loss: 0.03276478499174118\n",
      "Epoch: 80 --- Loss: 0.027529682964086533\n",
      "Epoch: 90 --- Loss: 0.023296961560845375\n"
     ]
    }
   ],
   "source": [
    "# Begin training\n",
    "epochs = 100\n",
    "for epoch in range(epochs):\n",
    "#   Change numpy to tensor\n",
    "    input_data = torch.from_numpy(dataset_train)\n",
    "    output_data = torch.from_numpy(dataset_train)\n",
    "#   Prediction \n",
    "    predict_out = training_model(input_data)\n",
    "    loss = criterion(predict_out, output_data)\n",
    "#   Sampling\n",
    "    if epoch % 10 == 0 :\n",
    "        print(\"Epoch: \" + str(epoch) + \" --- \"+ \"Loss: \" + str(loss.item()))\n",
    "    all_loss.append(loss)\n",
    "    optimizer.zero_grad()\n",
    "#   Backward propagation\n",
    "    loss.backward()\n",
    "    optimizer.step()"
   ]
  },
  {
   "cell_type": "code",
   "execution_count": 14,
   "id": "89c1ddf3",
   "metadata": {
    "ExecuteTime": {
     "end_time": "2022-01-27T04:27:59.995916Z",
     "start_time": "2022-01-27T04:27:59.359477Z"
    }
   },
   "outputs": [
    {
     "data": {
      "image/png": "[encoded data removed]",
      "text/plain": [
       "<Figure size 1152x1152 with 10 Axes>"
      ]
     },
     "metadata": {
      "needs_background": "light"
     },
     "output_type": "display_data"
    }
   ],
   "source": [
    "# test SLP to ensure it functions correctly as an autoassociative memory\n",
    "# output the test results\n",
    "fig, axes = plt.subplots(1, 10, figsize=(16, 16))\n",
    "fig.subplots_adjust(hspace=0.3, wspace=0.05)\n",
    "for idx , data in enumerate(dataset_train):\n",
    "    input_data = torch.from_numpy(data)\n",
    "    output_data = training_model(input_data)\n",
    "#   binaryzation 1 for white, 0 for black\n",
    "#   mask\n",
    "    output_data[output_data > 0.5] = 1\n",
    "    output_data[output_data <= 0.5] = 0\n",
    "#   change tensor data to numpy data in order to construct the image\n",
    "    output_image = output_data.detach().numpy()\n",
    "    output_image = output_image.reshape(16,16)\n",
    "    ax = axes.flatten()[idx]\n",
    "    ax.imshow(output_image, cmap='gray', interpolation='nearest') "
   ]
  },
  {
   "cell_type": "code",
   "execution_count": 15,
   "id": "d6514469",
   "metadata": {
    "ExecuteTime": {
     "end_time": "2022-01-27T05:45:44.289740Z",
     "start_time": "2022-01-27T05:45:44.160444Z"
    },
    "scrolled": false
   },
   "outputs": [
    {
     "data": {
      "text/plain": [
       "Text(0, 0.5, 'Loss')"
      ]
     },
     "execution_count": 15,
     "metadata": {},
     "output_type": "execute_result"
    },
    {
     "data": {
      "image/png": "[encoded data removed]",
      "text/plain": [
       "<Figure size 432x288 with 1 Axes>"
      ]
     },
     "metadata": {
      "needs_background": "light"
     },
     "output_type": "display_data"
    }
   ],
   "source": [
    "# output the loss graph\n",
    "all_loss_array = []\n",
    "for i in range (0, len(all_loss)):\n",
    "    all_loss_array.append(all_loss[i].detach().numpy())\n",
    "    \n",
    "plt.plot(all_loss_array, color='r')\n",
    "plt.xlabel(\"Epoch\")\n",
    "plt.ylabel(\"Loss\")"
   ]
  },
  {
   "cell_type": "markdown",
   "id": "045388f5",
   "metadata": {},
   "source": [
    "## Epoch = 500 and begin training"
   ]
  },
  {
   "cell_type": "code",
   "execution_count": 16,
   "id": "399be78e",
   "metadata": {
    "ExecuteTime": {
     "end_time": "2022-01-27T19:27:13.146831Z",
     "start_time": "2022-01-27T19:27:12.678586Z"
    },
    "scrolled": true
   },
   "outputs": [
    {
     "name": "stdout",
     "output_type": "stream",
     "text": [
      "Epoch: 0 --- Loss: 0.019869117066264153\n",
      "Epoch: 10 --- Loss: 0.017110953107476234\n",
      "Epoch: 20 --- Loss: 0.014868232421576977\n",
      "Epoch: 30 --- Loss: 0.013050447218120098\n",
      "Epoch: 40 --- Loss: 0.01156122237443924\n",
      "Epoch: 50 --- Loss: 0.010330180637538433\n",
      "Epoch: 60 --- Loss: 0.009301846846938133\n",
      "Epoch: 70 --- Loss: 0.00843256525695324\n",
      "Epoch: 80 --- Loss: 0.0076896557584404945\n",
      "Epoch: 90 --- Loss: 0.007048421539366245\n",
      "Epoch: 100 --- Loss: 0.00649018120020628\n",
      "Epoch: 110 --- Loss: 0.006000506225973368\n",
      "Epoch: 120 --- Loss: 0.005568102467805147\n",
      "Epoch: 130 --- Loss: 0.005183997564017773\n",
      "Epoch: 140 --- Loss: 0.00484097097069025\n",
      "Epoch: 150 --- Loss: 0.004533143248409033\n",
      "Epoch: 160 --- Loss: 0.004255684092640877\n",
      "Epoch: 170 --- Loss: 0.004004582762718201\n",
      "Epoch: 180 --- Loss: 0.0037764888256788254\n",
      "Epoch: 190 --- Loss: 0.0035685773473232985\n",
      "Epoch: 200 --- Loss: 0.0033784559927880764\n",
      "Epoch: 210 --- Loss: 0.0032040835358202457\n",
      "Epoch: 220 --- Loss: 0.0030437088571488857\n",
      "Epoch: 230 --- Loss: 0.0028958229813724756\n",
      "Epoch: 240 --- Loss: 0.00275911926291883\n",
      "Epoch: 250 --- Loss: 0.0026324610225856304\n",
      "Epoch: 260 --- Loss: 0.0025148543063551188\n",
      "Epoch: 270 --- Loss: 0.0024054287932813168\n",
      "Epoch: 280 --- Loss: 0.002303418004885316\n",
      "Epoch: 290 --- Loss: 0.0022081441711634398\n",
      "Epoch: 300 --- Loss: 0.0021190070547163486\n",
      "Epoch: 310 --- Loss: 0.0020354734733700752\n",
      "Epoch: 320 --- Loss: 0.0019570679869502783\n",
      "Epoch: 330 --- Loss: 0.0018833649810403585\n",
      "Epoch: 340 --- Loss: 0.0018139833118766546\n",
      "Epoch: 350 --- Loss: 0.0017485807184129953\n",
      "Epoch: 360 --- Loss: 0.0016868481179699302\n",
      "Epoch: 370 --- Loss: 0.0016285066958516836\n",
      "Epoch: 380 --- Loss: 0.0015733048785477877\n",
      "Epoch: 390 --- Loss: 0.0015210127457976341\n",
      "Epoch: 400 --- Loss: 0.0014714233111590147\n",
      "Epoch: 410 --- Loss: 0.0014243472833186388\n",
      "Epoch: 420 --- Loss: 0.0013796115526929498\n",
      "Epoch: 430 --- Loss: 0.0013370582601055503\n",
      "Epoch: 440 --- Loss: 0.0012965432833880186\n",
      "Epoch: 450 --- Loss: 0.001257933909073472\n",
      "Epoch: 460 --- Loss: 0.0012211085995659232\n",
      "Epoch: 470 --- Loss: 0.0011859554797410965\n",
      "Epoch: 480 --- Loss: 0.0011523711727932096\n",
      "Epoch: 490 --- Loss: 0.0011202606838196516\n"
     ]
    }
   ],
   "source": [
    "# Begin training\n",
    "epochs = 500\n",
    "step = 10\n",
    "for epoch in range(epochs):\n",
    "#   Change numpy to tensor\n",
    "    input_data = torch.from_numpy(dataset_train)\n",
    "    output_data = torch.from_numpy(dataset_train)\n",
    "#   Prediction \n",
    "    predict_out = training_model(input_data)\n",
    "    loss = criterion(predict_out, output_data)\n",
    "#   Sampling loss every 10 epoch\n",
    "    if epoch % step == 0 :\n",
    "        print(\"Epoch: \" + str(epoch) + \" --- \"+ \"Loss: \" + str(loss.item()))\n",
    "    all_loss.append(loss)\n",
    "    optimizer.zero_grad()\n",
    "#   Backward propagation\n",
    "    loss.backward()\n",
    "    optimizer.step()"
   ]
  },
  {
   "cell_type": "code",
   "execution_count": 17,
   "id": "ddc220d4",
   "metadata": {
    "ExecuteTime": {
     "end_time": "2022-01-27T19:27:15.690321Z",
     "start_time": "2022-01-27T19:27:15.560013Z"
    },
    "scrolled": true
   },
   "outputs": [
    {
     "data": {
      "text/plain": [
       "Text(0, 0.5, 'Loss')"
      ]
     },
     "execution_count": 17,
     "metadata": {},
     "output_type": "execute_result"
    },
    {
     "data": {
      "image/png": "[encoded data removed]",
      "text/plain": [
       "<Figure size 432x288 with 1 Axes>"
      ]
     },
     "metadata": {
      "needs_background": "light"
     },
     "output_type": "display_data"
    }
   ],
   "source": [
    "# output the loss graph\n",
    "all_loss_array = []\n",
    "for i in range (0, len(all_loss)):\n",
    "#   change tensor to numpy\n",
    "    all_loss_array.append(all_loss[i].detach().numpy())\n",
    "    \n",
    "plt.plot(all_loss_array, color='r')\n",
    "plt.xlabel(\"Epoch\")\n",
    "plt.ylabel(\"Loss\")"
   ]
  },
  {
   "cell_type": "markdown",
   "id": "8c234395",
   "metadata": {},
   "source": [
    "# Test SLP on the entire dataset trained on in Step 3 -- with no noise introduced into the input dataset."
   ]
  },
  {
   "cell_type": "code",
   "execution_count": 18,
   "id": "a4a8efb1",
   "metadata": {
    "ExecuteTime": {
     "end_time": "2022-01-27T19:27:19.523479Z",
     "start_time": "2022-01-27T19:27:18.942193Z"
    },
    "scrolled": true
   },
   "outputs": [
    {
     "data": {
      "image/png": "[encoded data removed]",
      "text/plain": [
       "<Figure size 1152x1152 with 10 Axes>"
      ]
     },
     "metadata": {
      "needs_background": "light"
     },
     "output_type": "display_data"
    }
   ],
   "source": [
    "# test SLP to ensure it functions correctly as an autoassociative memory\n",
    "# output the test results\n",
    "fig, axes = plt.subplots(1, 10, figsize=(16, 16))\n",
    "fig.subplots_adjust(hspace=0.3, wspace=0.05)\n",
    "for idx , data in enumerate(dataset_train):\n",
    "    input_data = torch.from_numpy(data)\n",
    "    output_data = training_model(input_data)\n",
    "#   binaryzation 1 for white, 0 for black\n",
    "    output_data[output_data > 0.5] = 1\n",
    "    output_data[output_data <= 0.5] = 0\n",
    "#   change tensor data to numpy data in order to construct the image\n",
    "    output_image = output_data.detach().numpy()\n",
    "    output_image = output_image.reshape(16,16)\n",
    "    ax = axes.flatten()[idx]\n",
    "    ax.imshow(output_image, cmap='gray', interpolation='nearest')"
   ]
  },
  {
   "cell_type": "code",
   "execution_count": 19,
   "id": "2f4757a5",
   "metadata": {
    "ExecuteTime": {
     "end_time": "2022-01-27T19:27:20.212018Z",
     "start_time": "2022-01-27T19:27:20.208306Z"
    }
   },
   "outputs": [],
   "source": [
    "# define Fh and Ffa\n",
    "# 0 refer black and 1 refer white\n",
    "def metrics (true_value, cal_value):\n",
    "    Fh = sum((true_value == 0) & (true_value == cal_value))/ sum(true_value == 0)\n",
    "    Ffa = sum((true_value == 1) & (true_value != cal_value))/ sum(true_value == 1)\n",
    "    return Fh, Ffa"
   ]
  },
  {
   "cell_type": "code",
   "execution_count": 20,
   "id": "984fa75b",
   "metadata": {
    "ExecuteTime": {
     "end_time": "2022-01-27T19:27:22.124090Z",
     "start_time": "2022-01-27T19:27:21.525470Z"
    }
   },
   "outputs": [
    {
     "data": {
      "image/png": "[encoded data removed]",
      "text/plain": [
       "<Figure size 1152x1152 with 10 Axes>"
      ]
     },
     "metadata": {
      "needs_background": "light"
     },
     "output_type": "display_data"
    }
   ],
   "source": [
    "# Apply your trained SLP in autoassociative mode to the dataset X, collecting output data in a test dataset Y.\n",
    "# At this point, test dataset is equal to train dataset.\n",
    "# store Fh and Ffa\n",
    "all_Fh = []\n",
    "all_Ffa = []\n",
    "fig, axes = plt.subplots(1, 10, figsize=(16, 16))\n",
    "fig.subplots_adjust(hspace=0.3, wspace=0.05)\n",
    "for idx , data in enumerate(dataset_train):\n",
    "    X = torch.from_numpy(data)\n",
    "    Y = training_model(X)\n",
    "#   binaryzation 0 for white, 1 for black\n",
    "    Y[Y > 0.5] = 1\n",
    "    Y[Y <= 0.5] = 0\n",
    "#   change tensor data to numpy data in order to construct the image\n",
    "    Y_image = Y.detach().numpy()\n",
    "    Y_image = Y_image.reshape(16,16)\n",
    "    ax = axes.flatten()[idx]\n",
    "    ax.imshow(Y_image, cmap='gray', interpolation='nearest')\n",
    "#   calculate Fh, Ffa by using function mentioned above\n",
    "    X = X.flatten().detach().numpy()\n",
    "    Y = Y.flatten().detach().numpy()\n",
    "    Fh, Ffa = metrics(X, Y)\n",
    "    all_Fh.append(Fh)\n",
    "    all_Ffa.append(Ffa)"
   ]
  },
  {
   "cell_type": "code",
   "execution_count": 21,
   "id": "b23a41b0",
   "metadata": {
    "ExecuteTime": {
     "end_time": "2022-01-27T19:27:23.263859Z",
     "start_time": "2022-01-27T19:27:23.258121Z"
    }
   },
   "outputs": [
    {
     "data": {
      "text/plain": [
       "[0.0, 0.0, 0.0, 0.0, 0.0, 0.0, 0.0, 0.0, 0.0, 0.0]"
      ]
     },
     "execution_count": 21,
     "metadata": {},
     "output_type": "execute_result"
    }
   ],
   "source": [
    "all_Ffa"
   ]
  },
  {
   "cell_type": "code",
   "execution_count": 22,
   "id": "668faa13",
   "metadata": {
    "ExecuteTime": {
     "end_time": "2022-01-27T19:27:26.256071Z",
     "start_time": "2022-01-27T19:27:26.124695Z"
    }
   },
   "outputs": [
    {
     "data": {
      "text/plain": [
       "Text(0, 0.5, 'Fh')"
      ]
     },
     "execution_count": 22,
     "metadata": {},
     "output_type": "execute_result"
    },
    {
     "data": {
      "image/png": "[encoded data removed]",
      "text/plain": [
       "<Figure size 432x288 with 1 Axes>"
      ]
     },
     "metadata": {
      "needs_background": "light"
     },
     "output_type": "display_data"
    }
   ],
   "source": [
    "# Graph Fh as a function of Ffa for each exemplar in the input dataset\n",
    "plt.scatter(all_Ffa, all_Fh,marker='v',color='b',s=100)\n",
    "plt.xlabel(\"Ffa\")\n",
    "plt.ylabel(\"Fh\")"
   ]
  },
  {
   "cell_type": "markdown",
   "id": "3c260536",
   "metadata": {},
   "source": [
    "# Perturb the dataset (the 10 images that you developed in Step 1) by adding noise, and saving the performance results."
   ]
  },
  {
   "cell_type": "code",
   "execution_count": 23,
   "id": "4db5fd50",
   "metadata": {
    "ExecuteTime": {
     "end_time": "2022-01-27T19:27:42.216426Z",
     "start_time": "2022-01-27T19:27:30.574821Z"
    },
    "scrolled": true
   },
   "outputs": [
    {
     "data": {
      "image/png": "[encoded data removed]",
      "text/plain": [
       "<Figure size 1152x1152 with 10 Axes>"
      ]
     },
     "metadata": {
      "needs_background": "light"
     },
     "output_type": "display_data"
    },
    {
     "data": {
      "image/png": "[encoded data removed]",
      "text/plain": [
       "<Figure size 1152x1152 with 10 Axes>"
      ]
     },
     "metadata": {
      "needs_background": "light"
     },
     "output_type": "display_data"
    },
    {
     "data": {
      "image/png": "[encoded data removed]",
      "text/plain": [
       "<Figure size 1152x1152 with 10 Axes>"
      ]
     },
     "metadata": {
      "needs_background": "light"
     },
     "output_type": "display_data"
    },
    {
     "data": {
      "image/png": "[encoded data removed]",
      "text/plain": [
       "<Figure size 1152x1152 with 10 Axes>"
      ]
     },
     "metadata": {
      "needs_background": "light"
     },
     "output_type": "display_data"
    },
    {
     "data": {
      "image/png": "[encoded data removed]",
      "text/plain": [
       "<Figure size 1152x1152 with 10 Axes>"
      ]
     },
     "metadata": {
      "needs_background": "light"
     },
     "output_type": "display_data"
    },
    {
     "data": {
      "image/png": "[encoded data removed]",
      "text/plain": [
       "<Figure size 1152x1152 with 10 Axes>"
      ]
     },
     "metadata": {
      "needs_background": "light"
     },
     "output_type": "display_data"
    },
    {
     "data": {
      "image/png": "[encoded data removed]",
      "text/plain": [
       "<Figure size 1152x1152 with 10 Axes>"
      ]
     },
     "metadata": {
      "needs_background": "light"
     },
     "output_type": "display_data"
    },
    {
     "data": {
      "image/png": "[encoded data removed]",
      "text/plain": [
       "<Figure size 1152x1152 with 10 Axes>"
      ]
     },
     "metadata": {
      "needs_background": "light"
     },
     "output_type": "display_data"
    },
    {
     "data": {
      "image/png": "[encoded data removed]",
      "text/plain": [
       "<Figure size 1152x1152 with 10 Axes>"
      ]
     },
     "metadata": {
      "needs_background": "light"
     },
     "output_type": "display_data"
    },
    {
     "data": {
      "image/png": "[encoded data removed]",
      "text/plain": [
       "<Figure size 1152x1152 with 10 Axes>"
      ]
     },
     "metadata": {
      "needs_background": "light"
     },
     "output_type": "display_data"
    },
    {
     "data": {
      "image/png": "[encoded data removed]",
      "text/plain": [
       "<Figure size 1152x1152 with 10 Axes>"
      ]
     },
     "metadata": {
      "needs_background": "light"
     },
     "output_type": "display_data"
    },
    {
     "data": {
      "image/png": "[encoded data removed]",
      "text/plain": [
       "<Figure size 1152x1152 with 10 Axes>"
      ]
     },
     "metadata": {
      "needs_background": "light"
     },
     "output_type": "display_data"
    },
    {
     "data": {
      "image/png": "[encoded data removed]",
      "text/plain": [
       "<Figure size 1152x1152 with 10 Axes>"
      ]
     },
     "metadata": {
      "needs_background": "light"
     },
     "output_type": "display_data"
    },
    {
     "data": {
      "image/png": "[encoded data removed]",
      "text/plain": [
       "<Figure size 1152x1152 with 10 Axes>"
      ]
     },
     "metadata": {
      "needs_background": "light"
     },
     "output_type": "display_data"
    },
    {
     "data": {
      "image/png": "[encoded data removed]",
      "text/plain": [
       "<Figure size 1152x1152 with 10 Axes>"
      ]
     },
     "metadata": {
      "needs_background": "light"
     },
     "output_type": "display_data"
    },
    {
     "data": {
      "image/png": "[encoded data removed]",
      "text/plain": [
       "<Figure size 1152x1152 with 10 Axes>"
      ]
     },
     "metadata": {
      "needs_background": "light"
     },
     "output_type": "display_data"
    },
    {
     "data": {
      "image/png": "[encoded data removed]",
      "text/plain": [
       "<Figure size 1152x1152 with 10 Axes>"
      ]
     },
     "metadata": {
      "needs_background": "light"
     },
     "output_type": "display_data"
    },
    {
     "data": {
      "image/png": "[encoded data removed]",
      "text/plain": [
       "<Figure size 1152x1152 with 10 Axes>"
      ]
     },
     "metadata": {
      "needs_background": "light"
     },
     "output_type": "display_data"
    }
   ],
   "source": [
    "# noise\n",
    "std_list = [0.001, 0.002, 0.003, 0.005, 0.01, 0.02, 0.03, 0.05, 0.1]\n",
    "# store the results for 9 different noise situations\n",
    "all_Fh_list = []\n",
    "all_Ffa_list = []\n",
    "\n",
    "# Gaussian-distributed，zero mean，std_list as standard deviation, 25 noise pixels per iamge\n",
    "for noise in std_list:\n",
    "    dataset_noised = np.ndarray(shape=dataset_reshaped.shape, dtype=np.float32)\n",
    "    for i in range(len(dataset_reshaped)):\n",
    "#       generate 25 random noise pixels \n",
    "        s = np.random.normal(0, noise, 25)\n",
    "        index = random.sample(list(range(256)), 25)\n",
    "        dataset_noised[i] = dataset_reshaped[i] \n",
    "#       add noise\n",
    "        dataset_noised[i, 0, index] = dataset_noised[i, 0, index] + s\n",
    "#       renormalize the noise-corrupted image so all of its pixels have values in the interval [0,1].\n",
    "#       normalization\n",
    "        dataset_noised[i,0,index] = (dataset_noised[i,0,index] \n",
    "                            - np.min(dataset_noised[i,0,index])) / (np.max(dataset_noised[i,0,index]) \n",
    "                                                            - np.min(dataset_noised[i,0,index]))\n",
    "\n",
    "#   print the images with noise\n",
    "    fig, axes = plt.subplots(1, 10, figsize=(16, 16))\n",
    "    fig.subplots_adjust(hspace=0.3, wspace=0.05)\n",
    "    for idx , data in enumerate(dataset_noised):\n",
    "        data = data.reshape(16,16)\n",
    "        ax = axes.flatten()[idx]\n",
    "        ax.imshow(data, cmap='gray', interpolation='nearest')\n",
    "        \n",
    "#   there are total 9 noise cases, show test results in each case\n",
    "    fig, axes = plt.subplots(1, 10, figsize=(16, 16))\n",
    "    fig.subplots_adjust(hspace=0.3, wspace=0.05)\n",
    "\n",
    "\n",
    "#   testing model using dataset_noised\n",
    "    all_Fh = []\n",
    "    all_Ffa = []\n",
    "    for idx , data in enumerate(dataset_noised):\n",
    "        X = torch.from_numpy(data)\n",
    "        Y = training_model(X)\n",
    "#       binaryzation 0 for white, 1 for black\n",
    "        Y[Y > 0.5] = 1\n",
    "        Y[Y <= 0.5] = 0\n",
    "#       change tensor data to numpy data in order to construct the image\n",
    "        Y_image = Y.detach().numpy()\n",
    "        Y_image = Y_image.reshape(16,16)\n",
    "        ax = axes.flatten()[idx]\n",
    "#       print the testing results\n",
    "        ax.imshow(Y_image, cmap='gray', interpolation='nearest')\n",
    "#       calculate Fh, Ffa by using function mentioned above\n",
    "        X = X.flatten().detach().numpy()\n",
    "        Y = Y.flatten().detach().numpy()\n",
    "        Fh, Ffa = metrics(X, Y)\n",
    "        all_Fh.append(Fh)\n",
    "        all_Ffa.append(Ffa)\n",
    "    all_Fh_list.append(all_Fh)\n",
    "    all_Ffa_list.append(all_Ffa)"
   ]
  },
  {
   "cell_type": "markdown",
   "id": "09e8763b",
   "metadata": {
    "heading_collapsed": true
   },
   "source": [
    "# Display Data from your Tests in Step 5."
   ]
  },
  {
   "cell_type": "code",
   "execution_count": 24,
   "id": "a3c0a3f0",
   "metadata": {
    "ExecuteTime": {
     "end_time": "2022-01-27T06:29:15.162656Z",
     "start_time": "2022-01-27T06:29:15.118221Z"
    },
    "hidden": true
   },
   "outputs": [
    {
     "data": {
      "text/html": [
       "<div>\n",
       "<style scoped>\n",
       "    .dataframe tbody tr th:only-of-type {\n",
       "        vertical-align: middle;\n",
       "    }\n",
       "\n",
       "    .dataframe tbody tr th {\n",
       "        vertical-align: top;\n",
       "    }\n",
       "\n",
       "    .dataframe thead th {\n",
       "        text-align: right;\n",
       "    }\n",
       "</style>\n",
       "<table border=\"1\" class=\"dataframe\">\n",
       "  <thead>\n",
       "    <tr style=\"text-align: right;\">\n",
       "      <th></th>\n",
       "      <th>Fh_stdev=0.001</th>\n",
       "      <th>Ffa_stdev=0.001</th>\n",
       "      <th>Fh_stdev=0.002</th>\n",
       "      <th>Ffa_stdev=0.002</th>\n",
       "      <th>Fh_stdev=0.003</th>\n",
       "      <th>Ffa_stdev=0.003</th>\n",
       "      <th>Fh_stdev=0.005</th>\n",
       "      <th>Ffa_stdev=0.005</th>\n",
       "      <th>Fh_stdev=0.01</th>\n",
       "      <th>Ffa_stdev=0.01</th>\n",
       "      <th>Fh_stdev=0.02</th>\n",
       "      <th>Ffa_stdev=0.02</th>\n",
       "      <th>Fh_stdev=0.03</th>\n",
       "      <th>Ffa_stdev=0.03</th>\n",
       "      <th>Fh_stdev=0.05</th>\n",
       "      <th>Ffa_stdev=0.05</th>\n",
       "      <th>Fh_stdev=0.1</th>\n",
       "      <th>Ffa_stdev=0.1</th>\n",
       "    </tr>\n",
       "  </thead>\n",
       "  <tbody>\n",
       "    <tr>\n",
       "      <th>0</th>\n",
       "      <td>1.0</td>\n",
       "      <td>0.0</td>\n",
       "      <td>1.0</td>\n",
       "      <td>0.0</td>\n",
       "      <td>1.0</td>\n",
       "      <td>0.0</td>\n",
       "      <td>1.0</td>\n",
       "      <td>0.0</td>\n",
       "      <td>1.0</td>\n",
       "      <td>0.0</td>\n",
       "      <td>1.0</td>\n",
       "      <td>0.0</td>\n",
       "      <td>1.0</td>\n",
       "      <td>0.0</td>\n",
       "      <td>1.0</td>\n",
       "      <td>0.0</td>\n",
       "      <td>1.0</td>\n",
       "      <td>0.0</td>\n",
       "    </tr>\n",
       "    <tr>\n",
       "      <th>1</th>\n",
       "      <td>1.0</td>\n",
       "      <td>0.0</td>\n",
       "      <td>1.0</td>\n",
       "      <td>0.0</td>\n",
       "      <td>1.0</td>\n",
       "      <td>0.0</td>\n",
       "      <td>1.0</td>\n",
       "      <td>0.0</td>\n",
       "      <td>1.0</td>\n",
       "      <td>0.0</td>\n",
       "      <td>1.0</td>\n",
       "      <td>0.0</td>\n",
       "      <td>1.0</td>\n",
       "      <td>0.0</td>\n",
       "      <td>1.0</td>\n",
       "      <td>0.0</td>\n",
       "      <td>1.0</td>\n",
       "      <td>0.0</td>\n",
       "    </tr>\n",
       "    <tr>\n",
       "      <th>2</th>\n",
       "      <td>1.0</td>\n",
       "      <td>0.0</td>\n",
       "      <td>1.0</td>\n",
       "      <td>0.0</td>\n",
       "      <td>1.0</td>\n",
       "      <td>0.0</td>\n",
       "      <td>1.0</td>\n",
       "      <td>0.0</td>\n",
       "      <td>1.0</td>\n",
       "      <td>0.0</td>\n",
       "      <td>1.0</td>\n",
       "      <td>0.0</td>\n",
       "      <td>1.0</td>\n",
       "      <td>0.0</td>\n",
       "      <td>1.0</td>\n",
       "      <td>0.0</td>\n",
       "      <td>1.0</td>\n",
       "      <td>0.0</td>\n",
       "    </tr>\n",
       "    <tr>\n",
       "      <th>3</th>\n",
       "      <td>1.0</td>\n",
       "      <td>0.0</td>\n",
       "      <td>1.0</td>\n",
       "      <td>0.0</td>\n",
       "      <td>1.0</td>\n",
       "      <td>0.0</td>\n",
       "      <td>1.0</td>\n",
       "      <td>0.0</td>\n",
       "      <td>1.0</td>\n",
       "      <td>0.0</td>\n",
       "      <td>1.0</td>\n",
       "      <td>0.0</td>\n",
       "      <td>1.0</td>\n",
       "      <td>0.0</td>\n",
       "      <td>1.0</td>\n",
       "      <td>0.0</td>\n",
       "      <td>1.0</td>\n",
       "      <td>0.0</td>\n",
       "    </tr>\n",
       "    <tr>\n",
       "      <th>4</th>\n",
       "      <td>1.0</td>\n",
       "      <td>0.0</td>\n",
       "      <td>1.0</td>\n",
       "      <td>0.0</td>\n",
       "      <td>1.0</td>\n",
       "      <td>0.0</td>\n",
       "      <td>1.0</td>\n",
       "      <td>0.0</td>\n",
       "      <td>1.0</td>\n",
       "      <td>0.0</td>\n",
       "      <td>1.0</td>\n",
       "      <td>0.0</td>\n",
       "      <td>1.0</td>\n",
       "      <td>0.0</td>\n",
       "      <td>1.0</td>\n",
       "      <td>0.0</td>\n",
       "      <td>1.0</td>\n",
       "      <td>0.0</td>\n",
       "    </tr>\n",
       "    <tr>\n",
       "      <th>5</th>\n",
       "      <td>1.0</td>\n",
       "      <td>0.0</td>\n",
       "      <td>1.0</td>\n",
       "      <td>0.0</td>\n",
       "      <td>1.0</td>\n",
       "      <td>0.0</td>\n",
       "      <td>1.0</td>\n",
       "      <td>0.0</td>\n",
       "      <td>1.0</td>\n",
       "      <td>0.0</td>\n",
       "      <td>1.0</td>\n",
       "      <td>0.0</td>\n",
       "      <td>1.0</td>\n",
       "      <td>0.0</td>\n",
       "      <td>1.0</td>\n",
       "      <td>0.0</td>\n",
       "      <td>1.0</td>\n",
       "      <td>0.0</td>\n",
       "    </tr>\n",
       "    <tr>\n",
       "      <th>6</th>\n",
       "      <td>1.0</td>\n",
       "      <td>0.0</td>\n",
       "      <td>1.0</td>\n",
       "      <td>0.0</td>\n",
       "      <td>1.0</td>\n",
       "      <td>0.0</td>\n",
       "      <td>1.0</td>\n",
       "      <td>0.0</td>\n",
       "      <td>1.0</td>\n",
       "      <td>0.0</td>\n",
       "      <td>1.0</td>\n",
       "      <td>0.0</td>\n",
       "      <td>1.0</td>\n",
       "      <td>0.0</td>\n",
       "      <td>1.0</td>\n",
       "      <td>0.0</td>\n",
       "      <td>1.0</td>\n",
       "      <td>0.0</td>\n",
       "    </tr>\n",
       "    <tr>\n",
       "      <th>7</th>\n",
       "      <td>1.0</td>\n",
       "      <td>0.0</td>\n",
       "      <td>1.0</td>\n",
       "      <td>0.0</td>\n",
       "      <td>1.0</td>\n",
       "      <td>0.0</td>\n",
       "      <td>1.0</td>\n",
       "      <td>0.0</td>\n",
       "      <td>1.0</td>\n",
       "      <td>0.0</td>\n",
       "      <td>1.0</td>\n",
       "      <td>0.0</td>\n",
       "      <td>1.0</td>\n",
       "      <td>0.0</td>\n",
       "      <td>1.0</td>\n",
       "      <td>0.0</td>\n",
       "      <td>1.0</td>\n",
       "      <td>0.0</td>\n",
       "    </tr>\n",
       "    <tr>\n",
       "      <th>8</th>\n",
       "      <td>1.0</td>\n",
       "      <td>0.0</td>\n",
       "      <td>1.0</td>\n",
       "      <td>0.0</td>\n",
       "      <td>1.0</td>\n",
       "      <td>0.0</td>\n",
       "      <td>1.0</td>\n",
       "      <td>0.0</td>\n",
       "      <td>1.0</td>\n",
       "      <td>0.0</td>\n",
       "      <td>1.0</td>\n",
       "      <td>0.0</td>\n",
       "      <td>1.0</td>\n",
       "      <td>0.0</td>\n",
       "      <td>1.0</td>\n",
       "      <td>0.0</td>\n",
       "      <td>1.0</td>\n",
       "      <td>0.0</td>\n",
       "    </tr>\n",
       "    <tr>\n",
       "      <th>9</th>\n",
       "      <td>1.0</td>\n",
       "      <td>0.0</td>\n",
       "      <td>1.0</td>\n",
       "      <td>0.0</td>\n",
       "      <td>1.0</td>\n",
       "      <td>0.0</td>\n",
       "      <td>1.0</td>\n",
       "      <td>0.0</td>\n",
       "      <td>1.0</td>\n",
       "      <td>0.0</td>\n",
       "      <td>1.0</td>\n",
       "      <td>0.0</td>\n",
       "      <td>1.0</td>\n",
       "      <td>0.0</td>\n",
       "      <td>1.0</td>\n",
       "      <td>0.0</td>\n",
       "      <td>1.0</td>\n",
       "      <td>0.0</td>\n",
       "    </tr>\n",
       "  </tbody>\n",
       "</table>\n",
       "</div>"
      ],
      "text/plain": [
       "   Fh_stdev=0.001  Ffa_stdev=0.001  Fh_stdev=0.002  Ffa_stdev=0.002  \\\n",
       "0             1.0              0.0             1.0              0.0   \n",
       "1             1.0              0.0             1.0              0.0   \n",
       "2             1.0              0.0             1.0              0.0   \n",
       "3             1.0              0.0             1.0              0.0   \n",
       "4             1.0              0.0             1.0              0.0   \n",
       "5             1.0              0.0             1.0              0.0   \n",
       "6             1.0              0.0             1.0              0.0   \n",
       "7             1.0              0.0             1.0              0.0   \n",
       "8             1.0              0.0             1.0              0.0   \n",
       "9             1.0              0.0             1.0              0.0   \n",
       "\n",
       "   Fh_stdev=0.003  Ffa_stdev=0.003  Fh_stdev=0.005  Ffa_stdev=0.005  \\\n",
       "0             1.0              0.0             1.0              0.0   \n",
       "1             1.0              0.0             1.0              0.0   \n",
       "2             1.0              0.0             1.0              0.0   \n",
       "3             1.0              0.0             1.0              0.0   \n",
       "4             1.0              0.0             1.0              0.0   \n",
       "5             1.0              0.0             1.0              0.0   \n",
       "6             1.0              0.0             1.0              0.0   \n",
       "7             1.0              0.0             1.0              0.0   \n",
       "8             1.0              0.0             1.0              0.0   \n",
       "9             1.0              0.0             1.0              0.0   \n",
       "\n",
       "   Fh_stdev=0.01  Ffa_stdev=0.01  Fh_stdev=0.02  Ffa_stdev=0.02  \\\n",
       "0            1.0             0.0            1.0             0.0   \n",
       "1            1.0             0.0            1.0             0.0   \n",
       "2            1.0             0.0            1.0             0.0   \n",
       "3            1.0             0.0            1.0             0.0   \n",
       "4            1.0             0.0            1.0             0.0   \n",
       "5            1.0             0.0            1.0             0.0   \n",
       "6            1.0             0.0            1.0             0.0   \n",
       "7            1.0             0.0            1.0             0.0   \n",
       "8            1.0             0.0            1.0             0.0   \n",
       "9            1.0             0.0            1.0             0.0   \n",
       "\n",
       "   Fh_stdev=0.03  Ffa_stdev=0.03  Fh_stdev=0.05  Ffa_stdev=0.05  Fh_stdev=0.1  \\\n",
       "0            1.0             0.0            1.0             0.0           1.0   \n",
       "1            1.0             0.0            1.0             0.0           1.0   \n",
       "2            1.0             0.0            1.0             0.0           1.0   \n",
       "3            1.0             0.0            1.0             0.0           1.0   \n",
       "4            1.0             0.0            1.0             0.0           1.0   \n",
       "5            1.0             0.0            1.0             0.0           1.0   \n",
       "6            1.0             0.0            1.0             0.0           1.0   \n",
       "7            1.0             0.0            1.0             0.0           1.0   \n",
       "8            1.0             0.0            1.0             0.0           1.0   \n",
       "9            1.0             0.0            1.0             0.0           1.0   \n",
       "\n",
       "   Ffa_stdev=0.1  \n",
       "0            0.0  \n",
       "1            0.0  \n",
       "2            0.0  \n",
       "3            0.0  \n",
       "4            0.0  \n",
       "5            0.0  \n",
       "6            0.0  \n",
       "7            0.0  \n",
       "8            0.0  \n",
       "9            0.0  "
      ]
     },
     "execution_count": 24,
     "metadata": {},
     "output_type": "execute_result"
    }
   ],
   "source": [
    "# Gather your results into a table of Fh and Ffa versus test-image-ID, with one column per each value of the standard deviation,\n",
    "# tabel\n",
    "std_list_Fh = [\"Fh_stdev=0.001\", \"Fh_stdev=0.002\", \"Fh_stdev=0.003\", \"Fh_stdev=0.005\",\n",
    "            \"Fh_stdev=0.01\", \"Fh_stdev=0.02\", \"Fh_stdev=0.03\", \"Fh_stdev=0.05\", \"Fh_stdev=0.1\"]\n",
    "\n",
    "std_list_Ffa = [\"Ffa_stdev=0.001\", \"Ffa_stdev=0.002\", \"Ffa_stdev=0.003\", \"Ffa_stdev=0.005\",\n",
    "            \"Ffa_stdev=0.01\", \"Ffa_stdev=0.02\", \"Ffa_stdev=0.03\", \"Ffa_stdev=0.05\", \"Ffa_stdev=0.1\"]\n",
    "Fh_dataframe = pd.DataFrame(all_Fh_list, columns=labels, index=std_list_Fh).T\n",
    "Ffa_dataframe = pd.DataFrame(all_Ffa_list, columns=labels, index=std_list_Ffa).T\n",
    "Table = pd.DataFrame()\n",
    "\n",
    "for i in range(Fh_dataframe.shape[1]):\n",
    "    Table = pd.concat([Table,Fh_dataframe.iloc[:,i],Ffa_dataframe.iloc[:,i]],axis=1)\n",
    "Table = Table.round(decimals = 2)\n",
    "Table"
   ]
  },
  {
   "cell_type": "code",
   "execution_count": 25,
   "id": "3d0e173d",
   "metadata": {
    "ExecuteTime": {
     "end_time": "2022-01-27T06:29:21.307767Z",
     "start_time": "2022-01-27T06:29:20.272248Z"
    },
    "hidden": true,
    "scrolled": true
   },
   "outputs": [
    {
     "data": {
      "text/plain": [
       "Text(0.5, 1.0, '$\\\\bf{Graph}$ $\\\\bf{of}$ $\\\\bf{Fh}$ $\\\\bf{and}$ $\\\\bf{Ffa}$ $\\\\bf{vs.}$ $\\\\bf{Noise}$ $\\\\bf{Standard}$ $\\\\bf{Deviation}$\\nfor noise-corrupted Alphanumeric Imagery (16x16 pixels) for Autoassociative Single-Layer Perceptron')"
      ]
     },
     "execution_count": 25,
     "metadata": {},
     "output_type": "execute_result"
    },
    {
     "data": {
      "image/png": "[encoded data removed]",
      "text/plain": [
       "<Figure size 1500x1000 with 1 Axes>"
      ]
     },
     "metadata": {
      "needs_background": "light"
     },
     "output_type": "display_data"
    }
   ],
   "source": [
    "from matplotlib.pyplot import MultipleLocator\n",
    "plt.figure(figsize=[15,10],dpi=100)\n",
    "ax.xaxis.set_major_locator(MultipleLocator(0.01))\n",
    "for i in range(1, len(std_list)):\n",
    "    plt.scatter([std_list[i]] * 10, all_Fh_list[i], \n",
    "                marker='o', color='black',s=100)\n",
    "    plt.scatter([std_list[i]] * 10, all_Ffa_list[i], \n",
    "                facecolors='none', edgecolors='black',s=100)\n",
    "plt.ylim(0, 1.20)\n",
    "plt.xlabel(r\"$\\bf{\" + \"Gaussian\" + \"}$\" + \" \" +\n",
    "           r\"$\\bf{\" + \"Noise\" + \"}$\" + \" \" +\n",
    "           r\"$\\bf{\" + \"Level\" + \"}$\" + \" \" +\n",
    "           r\"$\\bf{\" + \"(stdev,\" + \"}$\" + \" \" +\n",
    "           r\"$\\bf{\" + \"10\" + \"}$\" + \" \" +\n",
    "           r\"$\\bf{\" + \"pct\" + \"}$\" + \" \" +\n",
    "           r\"$\\bf{\" + \"xsecn)\" + \"}$\" + \" \", fontsize=15)\n",
    "plt.ylabel(r\"$\\bf{\" + \"Fh\" + \"}$\" + \" \" +\n",
    "           r\"$\\bf{\" + \"and\" + \"}$\" + \" \" +\n",
    "           r\"$\\bf{\" + \"Ffa\" + \"}$\" + \" \", fontsize=15)\n",
    "Fh_dots = Line2D([0], [0], marker='o', color='k', lw=0, markersize=12, markerfacecolor='k', label='Fh')\n",
    "Ffa_dots = Line2D([0], [0], marker='o', color='k', lw=0, markersize=12, markerfacecolor='w', label='Ffa')\n",
    "legend_elements = [Fh_dots, Ffa_dots]\n",
    "plt.legend(handles=legend_elements,fontsize=15,loc='upper right')\n",
    "plt.text(0.02,1.1,\"Training / Test set = { '0', '1', '2', '3', '4', '5', '6', '7', '8', '9}\",\n",
    "         fontsize=15)\n",
    "plt.title(r\"$\\bf{\"+\"Graph\"+\"}$\" + \" \" +\n",
    "          r\"$\\bf{\"+\"of\"+\"}$\" + \" \" +\n",
    "          r\"$\\bf{\"+\"Fh\"+\"}$\" + \" \" +\n",
    "          r\"$\\bf{\"+\"and\"+\"}$\" + \" \" +\n",
    "          r\"$\\bf{\"+\"Ffa\"+\"}$\" + \" \" +\n",
    "          r\"$\\bf{\"+\"vs.\"+\"}$\" + \" \" +\n",
    "          r\"$\\bf{\"+\"Noise\"+\"}$\" + \" \" +\n",
    "          r\"$\\bf{\"+\"Standard\"+\"}$\" + \" \" +\n",
    "          r\"$\\bf{\"+\"Deviation\"+\"}$\" +\n",
    "          \"\\nfor noise-corrupted Alphanumeric Imagery (16x16 pixels) for Autoassociative Single-Layer Perceptron\",\n",
    "          fontsize = 15)"
   ]
  },
  {
   "cell_type": "markdown",
   "id": "d114fa4c",
   "metadata": {},
   "source": [
    "# Extra Points: SMNN"
   ]
  },
  {
   "cell_type": "markdown",
   "id": "98634b74",
   "metadata": {},
   "source": [
    "## SMNN Construction"
   ]
  },
  {
   "cell_type": "code",
   "execution_count": 26,
   "id": "4d4f9122",
   "metadata": {
    "ExecuteTime": {
     "end_time": "2022-01-27T19:43:48.239529Z",
     "start_time": "2022-01-27T19:43:48.229647Z"
    }
   },
   "outputs": [],
   "source": [
    "training_model_smnn = torch.nn.Sequential(nn.Linear(256, 256), nn.Sigmoid(),\n",
    "                                     nn.Linear(256,256),nn.Sigmoid(),\n",
    "                                     nn.Linear(256,256),nn.Sigmoid())\n",
    "optimizer_smnn = optim.Adam(training_model_smnn.parameters(), lr=1e-3)\n",
    "np.random.seed(0)\n",
    "torch.manual_seed(0)\n",
    "# Mean-Square-Zero (MSE) Loss function\n",
    "criterion_smnn = nn.MSELoss()\n",
    "all_loss_smnn = []"
   ]
  },
  {
   "cell_type": "markdown",
   "id": "a7213245",
   "metadata": {},
   "source": [
    "## SMNN Training"
   ]
  },
  {
   "cell_type": "markdown",
   "id": "00e721d7",
   "metadata": {
    "heading_collapsed": true
   },
   "source": [
    "### A Preliminary Test: Epoch = 100"
   ]
  },
  {
   "cell_type": "code",
   "execution_count": 27,
   "id": "21d57779",
   "metadata": {
    "ExecuteTime": {
     "end_time": "2022-01-27T18:39:10.085228Z",
     "start_time": "2022-01-27T18:39:09.875563Z"
    },
    "hidden": true,
    "scrolled": true
   },
   "outputs": [
    {
     "name": "stdout",
     "output_type": "stream",
     "text": [
      "Epoch: 0 --- Loss: 0.2533615231513977\n",
      "Epoch: 10 --- Loss: 0.14702758193016052\n",
      "Epoch: 20 --- Loss: 0.14108730852603912\n",
      "Epoch: 30 --- Loss: 0.13942848145961761\n",
      "Epoch: 40 --- Loss: 0.13804508745670319\n",
      "Epoch: 50 --- Loss: 0.13514623045921326\n",
      "Epoch: 60 --- Loss: 0.12729890644550323\n",
      "Epoch: 70 --- Loss: 0.11500407755374908\n",
      "Epoch: 80 --- Loss: 0.10478620231151581\n",
      "Epoch: 90 --- Loss: 0.09438872337341309\n"
     ]
    }
   ],
   "source": [
    "# Begin training\n",
    "epochs = 100\n",
    "step = 10\n",
    "for epoch in range(epochs):\n",
    "#   Change numpy to tensor\n",
    "    input_data = torch.from_numpy(dataset_train)\n",
    "    output_data = torch.from_numpy(dataset_train)\n",
    "#   Prediction \n",
    "    predict_out = training_model_smnn(input_data)\n",
    "    loss = criterion_smnn(predict_out, output_data)\n",
    "#   Sampling loss every 10 epoch\n",
    "    if epoch % step == 0 :\n",
    "        print(\"Epoch: \" + str(epoch) + \" --- \"+ \"Loss: \" + str(loss.item()))\n",
    "    all_loss_smnn.append(loss)\n",
    "    optimizer_smnn.zero_grad()\n",
    "#   Backward propagation\n",
    "    loss.backward()\n",
    "    optimizer_smnn.step()"
   ]
  },
  {
   "cell_type": "code",
   "execution_count": 28,
   "id": "a97bce9a",
   "metadata": {
    "ExecuteTime": {
     "end_time": "2022-01-27T18:39:12.370986Z",
     "start_time": "2022-01-27T18:39:11.741363Z"
    },
    "hidden": true,
    "scrolled": false
   },
   "outputs": [
    {
     "data": {
      "image/png": "[encoded data removed]",
      "text/plain": [
       "<Figure size 1152x1152 with 10 Axes>"
      ]
     },
     "metadata": {
      "needs_background": "light"
     },
     "output_type": "display_data"
    }
   ],
   "source": [
    "# test SMNN to ensure it functions correctly as an autoassociative memory\n",
    "# output the test results\n",
    "fig, axes = plt.subplots(1, 10, figsize=(16, 16))\n",
    "fig.subplots_adjust(hspace=0.3, wspace=0.05)\n",
    "for idx , data in enumerate(dataset_train):\n",
    "    input_data = torch.from_numpy(data)\n",
    "    output_data = training_model_smnn(input_data)\n",
    "#     binaryzation 1 for white, 0 for black\n",
    "#     mask 索引将图片二值化\n",
    "    output_data[output_data > 0.5] = 1\n",
    "    output_data[output_data <= 0.5] = 0\n",
    "#     change tensor data to numpy data in order to construct the image\n",
    "    output_image = output_data.detach().numpy()\n",
    "    output_image = output_image.reshape(16,16)\n",
    "    ax = axes.flatten()[idx]\n",
    "    ax.imshow(output_image, cmap='gray', interpolation='nearest')\n",
    "    "
   ]
  },
  {
   "cell_type": "markdown",
   "id": "9165f112",
   "metadata": {},
   "source": [
    "### Begin Training"
   ]
  },
  {
   "cell_type": "code",
   "execution_count": 29,
   "id": "0bc94529",
   "metadata": {
    "ExecuteTime": {
     "end_time": "2022-01-27T19:43:52.414503Z",
     "start_time": "2022-01-27T19:43:51.429169Z"
    },
    "scrolled": true
   },
   "outputs": [
    {
     "name": "stdout",
     "output_type": "stream",
     "text": [
      "Epoch: 0 --- Loss: 0.08331135660409927\n",
      "Epoch: 10 --- Loss: 0.07326652109622955\n",
      "Epoch: 20 --- Loss: 0.06401066482067108\n",
      "Epoch: 30 --- Loss: 0.05543651059269905\n",
      "Epoch: 40 --- Loss: 0.04767967015504837\n",
      "Epoch: 50 --- Loss: 0.04078109562397003\n",
      "Epoch: 60 --- Loss: 0.03471357375383377\n",
      "Epoch: 70 --- Loss: 0.029396003112196922\n",
      "Epoch: 80 --- Loss: 0.024826977401971817\n",
      "Epoch: 90 --- Loss: 0.020895561203360558\n",
      "Epoch: 100 --- Loss: 0.01755007542669773\n",
      "Epoch: 110 --- Loss: 0.014822147786617279\n",
      "Epoch: 120 --- Loss: 0.012521217577159405\n",
      "Epoch: 130 --- Loss: 0.010490179061889648\n",
      "Epoch: 140 --- Loss: 0.00889238528907299\n",
      "Epoch: 150 --- Loss: 0.007700649090111256\n",
      "Epoch: 160 --- Loss: 0.006691259332001209\n",
      "Epoch: 170 --- Loss: 0.005879485048353672\n",
      "Epoch: 180 --- Loss: 0.005249634385108948\n",
      "Epoch: 190 --- Loss: 0.004693288821727037\n",
      "Epoch: 200 --- Loss: 0.004133408889174461\n",
      "Epoch: 210 --- Loss: 0.0036217798478901386\n",
      "Epoch: 220 --- Loss: 0.0031263374257832766\n",
      "Epoch: 230 --- Loss: 0.0028448370285332203\n",
      "Epoch: 240 --- Loss: 0.0026280751917511225\n",
      "Epoch: 250 --- Loss: 0.0024469124618917704\n",
      "Epoch: 260 --- Loss: 0.002290719887241721\n",
      "Epoch: 270 --- Loss: 0.0021541500464081764\n",
      "Epoch: 280 --- Loss: 0.002033661585301161\n",
      "Epoch: 290 --- Loss: 0.0019265813753008842\n",
      "Epoch: 300 --- Loss: 0.0018308318685740232\n",
      "Epoch: 310 --- Loss: 0.0017447478603571653\n",
      "Epoch: 320 --- Loss: 0.0016669777687638998\n",
      "Epoch: 330 --- Loss: 0.0015964120393618941\n",
      "Epoch: 340 --- Loss: 0.0015321295941248536\n",
      "Epoch: 350 --- Loss: 0.0014733589487150311\n",
      "Epoch: 360 --- Loss: 0.0014194489922374487\n",
      "Epoch: 370 --- Loss: 0.0013698464026674628\n",
      "Epoch: 380 --- Loss: 0.0013240783009678125\n",
      "Epoch: 390 --- Loss: 0.001281736302189529\n",
      "Epoch: 400 --- Loss: 0.001242468017153442\n",
      "Epoch: 410 --- Loss: 0.0012059664586558938\n",
      "Epoch: 420 --- Loss: 0.0011719620088115335\n",
      "Epoch: 430 --- Loss: 0.0011402185773476958\n",
      "Epoch: 440 --- Loss: 0.0011105283629149199\n",
      "Epoch: 450 --- Loss: 0.001082707429304719\n",
      "Epoch: 460 --- Loss: 0.0010565940756350756\n",
      "Epoch: 470 --- Loss: 0.0010320449946448207\n",
      "Epoch: 480 --- Loss: 0.0010089341085404158\n",
      "Epoch: 490 --- Loss: 0.0009871487272903323\n"
     ]
    }
   ],
   "source": [
    "# Begin training\n",
    "epochs = 500\n",
    "step = 10\n",
    "for epoch in range(epochs):\n",
    "#   Change numpy to tensor\n",
    "    input_data = torch.from_numpy(dataset_train)\n",
    "    output_data = torch.from_numpy(dataset_train)\n",
    "#   Prediction \n",
    "    predict_out = training_model_smnn(input_data)\n",
    "    loss = criterion_smnn(predict_out, output_data)\n",
    "#   Sampling loss every 10 epoch\n",
    "    if epoch % step == 0 :\n",
    "        print(\"Epoch: \" + str(epoch) + \" --- \"+ \"Loss: \" + str(loss.item()))\n",
    "    all_loss_smnn.append(loss)\n",
    "    optimizer_smnn.zero_grad()\n",
    "#   Backward propagation\n",
    "    loss.backward()\n",
    "    optimizer_smnn.step()"
   ]
  },
  {
   "cell_type": "markdown",
   "id": "d13b8506",
   "metadata": {},
   "source": [
    "## SMNN Testing"
   ]
  },
  {
   "cell_type": "code",
   "execution_count": 30,
   "id": "e52282a0",
   "metadata": {
    "ExecuteTime": {
     "end_time": "2022-01-27T19:44:33.739631Z",
     "start_time": "2022-01-27T19:44:32.942587Z"
    },
    "scrolled": false
   },
   "outputs": [
    {
     "data": {
      "image/png": "[encoded data removed]",
      "text/plain": [
       "<Figure size 1152x1152 with 10 Axes>"
      ]
     },
     "metadata": {
      "needs_background": "light"
     },
     "output_type": "display_data"
    }
   ],
   "source": [
    "# test SLP to ensure it functions correctly as an autoassociative memory\n",
    "# output the test results\n",
    "fig, axes = plt.subplots(1, 10, figsize=(16, 16))\n",
    "fig.subplots_adjust(hspace=0.3, wspace=0.05)\n",
    "for idx , data in enumerate(dataset_train):\n",
    "    input_data = torch.from_numpy(data)\n",
    "    output_data = training_model_smnn(input_data)\n",
    "#   binaryzation 1 for white, 0 for black\n",
    "    output_data[output_data > 0.5] = 1\n",
    "    output_data[output_data <= 0.5] = 0\n",
    "#   change tensor data to numpy data in order to construct the image\n",
    "    output_image = output_data.detach().numpy()\n",
    "    output_image = output_image.reshape(16,16)\n",
    "    ax = axes.flatten()[idx]\n",
    "    ax.imshow(output_image, cmap='gray', interpolation='nearest')"
   ]
  },
  {
   "cell_type": "code",
   "execution_count": 31,
   "id": "4ad77277",
   "metadata": {
    "ExecuteTime": {
     "end_time": "2022-01-27T19:44:36.583170Z",
     "start_time": "2022-01-27T19:44:36.541648Z"
    }
   },
   "outputs": [],
   "source": [
    "# Apply your trained SLP in autoassociative mode to the dataset X, collecting output data in a test dataset Y.\n",
    "# At this point, test dataset is equal to train dataset.\n",
    "# store Fh and Ffa\n",
    "all_Fh_smnn = []\n",
    "all_Ffa_smnn = []\n",
    "for idx , data in enumerate(dataset_train):\n",
    "    X = torch.from_numpy(data)\n",
    "    Y = training_model_smnn(X)\n",
    "#     binaryzation 0 for white, 1 for black\n",
    "    Y[Y > 0.5] = 1\n",
    "    Y[Y <= 0.5] = 0\n",
    "#     calculate Fh, Ffa by using function mentioned above\n",
    "    X = X.flatten().detach().numpy()\n",
    "    Y = Y.flatten().detach().numpy()\n",
    "    Fh, Ffa = metrics(X, Y)\n",
    "    all_Fh_smnn.append(Fh)\n",
    "    all_Ffa_smnn.append(Ffa)"
   ]
  },
  {
   "cell_type": "code",
   "execution_count": 32,
   "id": "e1cf970e",
   "metadata": {
    "ExecuteTime": {
     "end_time": "2022-01-27T19:44:39.035092Z",
     "start_time": "2022-01-27T19:44:39.025060Z"
    }
   },
   "outputs": [
    {
     "data": {
      "text/plain": [
       "[0.0, 0.0, 0.0, 0.0, 0.0, 0.0, 0.0, 0.0, 0.0, 0.0]"
      ]
     },
     "execution_count": 32,
     "metadata": {},
     "output_type": "execute_result"
    }
   ],
   "source": [
    "all_Ffa_smnn"
   ]
  },
  {
   "cell_type": "code",
   "execution_count": 33,
   "id": "58225011",
   "metadata": {
    "ExecuteTime": {
     "end_time": "2022-01-27T19:44:40.218277Z",
     "start_time": "2022-01-27T19:44:40.208477Z"
    }
   },
   "outputs": [
    {
     "data": {
      "text/plain": [
       "[1.0, 1.0, 1.0, 1.0, 1.0, 1.0, 1.0, 1.0, 0.9880952380952381, 1.0]"
      ]
     },
     "execution_count": 33,
     "metadata": {},
     "output_type": "execute_result"
    }
   ],
   "source": [
    "all_Fh_smnn"
   ]
  },
  {
   "cell_type": "code",
   "execution_count": 34,
   "id": "9ea45535",
   "metadata": {
    "ExecuteTime": {
     "end_time": "2022-01-27T19:44:42.506285Z",
     "start_time": "2022-01-27T19:44:42.341010Z"
    }
   },
   "outputs": [
    {
     "data": {
      "text/plain": [
       "Text(0, 0.5, 'Fh')"
      ]
     },
     "execution_count": 34,
     "metadata": {},
     "output_type": "execute_result"
    },
    {
     "data": {
      "image/png": "[encoded data removed]",
      "text/plain": [
       "<Figure size 432x288 with 1 Axes>"
      ]
     },
     "metadata": {
      "needs_background": "light"
     },
     "output_type": "display_data"
    }
   ],
   "source": [
    "# Graph Fh as a function of Ffa for each exemplar in the input dataset\n",
    "plt.scatter(all_Ffa_smnn, all_Fh_smnn,marker='v',color='b',s=100)\n",
    "plt.xlabel(\"Ffa\")\n",
    "plt.ylabel(\"Fh\")"
   ]
  },
  {
   "cell_type": "markdown",
   "id": "bca7af69",
   "metadata": {},
   "source": [
    "## Noises Added"
   ]
  },
  {
   "cell_type": "markdown",
   "id": "8334c17b",
   "metadata": {},
   "source": [
    "### SMNN Training with Noises"
   ]
  },
  {
   "cell_type": "code",
   "execution_count": 35,
   "id": "a7bbea90",
   "metadata": {
    "ExecuteTime": {
     "end_time": "2022-01-27T19:45:25.979295Z",
     "start_time": "2022-01-27T19:45:23.689723Z"
    },
    "scrolled": false
   },
   "outputs": [],
   "source": [
    "# store the results for 9 different noise situations\n",
    "all_Fh_list_smnn = []\n",
    "all_Ffa_list_smnn = []\n",
    "for noise in std_list:\n",
    "    all_Fh = []\n",
    "    all_Ffa = []\n",
    "    for idx , data in enumerate(dataset_noised):\n",
    "        X = torch.from_numpy(dataset_noised)\n",
    "        Y = training_model_smnn(X)\n",
    "#       binaryzation 0 for white, 1 for black\n",
    "        Y[Y > 0.5] = 1\n",
    "        Y[Y <= 0.5] = 0\n",
    "#       calculate Fh, Ffa by using function mentioned above\n",
    "        X = X.flatten().detach().numpy()\n",
    "        Y = Y.flatten().detach().numpy()\n",
    "        Fh, Ffa = metrics(X, Y)\n",
    "        all_Fh.append(Fh)\n",
    "        all_Ffa.append(Ffa)\n",
    "    all_Fh_list_smnn.append(all_Fh)\n",
    "    all_Ffa_list_smnn.append(all_Ffa)"
   ]
  },
  {
   "cell_type": "markdown",
   "id": "f091eaf0",
   "metadata": {},
   "source": [
    "### SMNN Testing with Noises"
   ]
  },
  {
   "cell_type": "code",
   "execution_count": 36,
   "id": "67cbc3ae",
   "metadata": {
    "ExecuteTime": {
     "end_time": "2022-01-27T19:45:28.201618Z",
     "start_time": "2022-01-27T19:45:28.132760Z"
    }
   },
   "outputs": [
    {
     "data": {
      "text/html": [
       "<div>\n",
       "<style scoped>\n",
       "    .dataframe tbody tr th:only-of-type {\n",
       "        vertical-align: middle;\n",
       "    }\n",
       "\n",
       "    .dataframe tbody tr th {\n",
       "        vertical-align: top;\n",
       "    }\n",
       "\n",
       "    .dataframe thead th {\n",
       "        text-align: right;\n",
       "    }\n",
       "</style>\n",
       "<table border=\"1\" class=\"dataframe\">\n",
       "  <thead>\n",
       "    <tr style=\"text-align: right;\">\n",
       "      <th></th>\n",
       "      <th>Fh_stdev=0.001</th>\n",
       "      <th>Ffa_stdev=0.001</th>\n",
       "      <th>Fh_stdev=0.002</th>\n",
       "      <th>Ffa_stdev=0.002</th>\n",
       "      <th>Fh_stdev=0.003</th>\n",
       "      <th>Ffa_stdev=0.003</th>\n",
       "      <th>Fh_stdev=0.005</th>\n",
       "      <th>Ffa_stdev=0.005</th>\n",
       "      <th>Fh_stdev=0.01</th>\n",
       "      <th>Ffa_stdev=0.01</th>\n",
       "      <th>Fh_stdev=0.02</th>\n",
       "      <th>Ffa_stdev=0.02</th>\n",
       "      <th>Fh_stdev=0.03</th>\n",
       "      <th>Ffa_stdev=0.03</th>\n",
       "      <th>Fh_stdev=0.05</th>\n",
       "      <th>Ffa_stdev=0.05</th>\n",
       "      <th>Fh_stdev=0.1</th>\n",
       "      <th>Ffa_stdev=0.1</th>\n",
       "    </tr>\n",
       "  </thead>\n",
       "  <tbody>\n",
       "    <tr>\n",
       "      <th>0</th>\n",
       "      <td>1.0</td>\n",
       "      <td>0.0</td>\n",
       "      <td>1.0</td>\n",
       "      <td>0.0</td>\n",
       "      <td>1.0</td>\n",
       "      <td>0.0</td>\n",
       "      <td>1.0</td>\n",
       "      <td>0.0</td>\n",
       "      <td>1.0</td>\n",
       "      <td>0.0</td>\n",
       "      <td>1.0</td>\n",
       "      <td>0.0</td>\n",
       "      <td>1.0</td>\n",
       "      <td>0.0</td>\n",
       "      <td>1.0</td>\n",
       "      <td>0.0</td>\n",
       "      <td>1.0</td>\n",
       "      <td>0.0</td>\n",
       "    </tr>\n",
       "    <tr>\n",
       "      <th>1</th>\n",
       "      <td>1.0</td>\n",
       "      <td>0.0</td>\n",
       "      <td>1.0</td>\n",
       "      <td>0.0</td>\n",
       "      <td>1.0</td>\n",
       "      <td>0.0</td>\n",
       "      <td>1.0</td>\n",
       "      <td>0.0</td>\n",
       "      <td>1.0</td>\n",
       "      <td>0.0</td>\n",
       "      <td>1.0</td>\n",
       "      <td>0.0</td>\n",
       "      <td>1.0</td>\n",
       "      <td>0.0</td>\n",
       "      <td>1.0</td>\n",
       "      <td>0.0</td>\n",
       "      <td>1.0</td>\n",
       "      <td>0.0</td>\n",
       "    </tr>\n",
       "    <tr>\n",
       "      <th>2</th>\n",
       "      <td>1.0</td>\n",
       "      <td>0.0</td>\n",
       "      <td>1.0</td>\n",
       "      <td>0.0</td>\n",
       "      <td>1.0</td>\n",
       "      <td>0.0</td>\n",
       "      <td>1.0</td>\n",
       "      <td>0.0</td>\n",
       "      <td>1.0</td>\n",
       "      <td>0.0</td>\n",
       "      <td>1.0</td>\n",
       "      <td>0.0</td>\n",
       "      <td>1.0</td>\n",
       "      <td>0.0</td>\n",
       "      <td>1.0</td>\n",
       "      <td>0.0</td>\n",
       "      <td>1.0</td>\n",
       "      <td>0.0</td>\n",
       "    </tr>\n",
       "    <tr>\n",
       "      <th>3</th>\n",
       "      <td>1.0</td>\n",
       "      <td>0.0</td>\n",
       "      <td>1.0</td>\n",
       "      <td>0.0</td>\n",
       "      <td>1.0</td>\n",
       "      <td>0.0</td>\n",
       "      <td>1.0</td>\n",
       "      <td>0.0</td>\n",
       "      <td>1.0</td>\n",
       "      <td>0.0</td>\n",
       "      <td>1.0</td>\n",
       "      <td>0.0</td>\n",
       "      <td>1.0</td>\n",
       "      <td>0.0</td>\n",
       "      <td>1.0</td>\n",
       "      <td>0.0</td>\n",
       "      <td>1.0</td>\n",
       "      <td>0.0</td>\n",
       "    </tr>\n",
       "    <tr>\n",
       "      <th>4</th>\n",
       "      <td>1.0</td>\n",
       "      <td>0.0</td>\n",
       "      <td>1.0</td>\n",
       "      <td>0.0</td>\n",
       "      <td>1.0</td>\n",
       "      <td>0.0</td>\n",
       "      <td>1.0</td>\n",
       "      <td>0.0</td>\n",
       "      <td>1.0</td>\n",
       "      <td>0.0</td>\n",
       "      <td>1.0</td>\n",
       "      <td>0.0</td>\n",
       "      <td>1.0</td>\n",
       "      <td>0.0</td>\n",
       "      <td>1.0</td>\n",
       "      <td>0.0</td>\n",
       "      <td>1.0</td>\n",
       "      <td>0.0</td>\n",
       "    </tr>\n",
       "    <tr>\n",
       "      <th>5</th>\n",
       "      <td>1.0</td>\n",
       "      <td>0.0</td>\n",
       "      <td>1.0</td>\n",
       "      <td>0.0</td>\n",
       "      <td>1.0</td>\n",
       "      <td>0.0</td>\n",
       "      <td>1.0</td>\n",
       "      <td>0.0</td>\n",
       "      <td>1.0</td>\n",
       "      <td>0.0</td>\n",
       "      <td>1.0</td>\n",
       "      <td>0.0</td>\n",
       "      <td>1.0</td>\n",
       "      <td>0.0</td>\n",
       "      <td>1.0</td>\n",
       "      <td>0.0</td>\n",
       "      <td>1.0</td>\n",
       "      <td>0.0</td>\n",
       "    </tr>\n",
       "    <tr>\n",
       "      <th>6</th>\n",
       "      <td>1.0</td>\n",
       "      <td>0.0</td>\n",
       "      <td>1.0</td>\n",
       "      <td>0.0</td>\n",
       "      <td>1.0</td>\n",
       "      <td>0.0</td>\n",
       "      <td>1.0</td>\n",
       "      <td>0.0</td>\n",
       "      <td>1.0</td>\n",
       "      <td>0.0</td>\n",
       "      <td>1.0</td>\n",
       "      <td>0.0</td>\n",
       "      <td>1.0</td>\n",
       "      <td>0.0</td>\n",
       "      <td>1.0</td>\n",
       "      <td>0.0</td>\n",
       "      <td>1.0</td>\n",
       "      <td>0.0</td>\n",
       "    </tr>\n",
       "    <tr>\n",
       "      <th>7</th>\n",
       "      <td>1.0</td>\n",
       "      <td>0.0</td>\n",
       "      <td>1.0</td>\n",
       "      <td>0.0</td>\n",
       "      <td>1.0</td>\n",
       "      <td>0.0</td>\n",
       "      <td>1.0</td>\n",
       "      <td>0.0</td>\n",
       "      <td>1.0</td>\n",
       "      <td>0.0</td>\n",
       "      <td>1.0</td>\n",
       "      <td>0.0</td>\n",
       "      <td>1.0</td>\n",
       "      <td>0.0</td>\n",
       "      <td>1.0</td>\n",
       "      <td>0.0</td>\n",
       "      <td>1.0</td>\n",
       "      <td>0.0</td>\n",
       "    </tr>\n",
       "    <tr>\n",
       "      <th>8</th>\n",
       "      <td>1.0</td>\n",
       "      <td>0.0</td>\n",
       "      <td>1.0</td>\n",
       "      <td>0.0</td>\n",
       "      <td>1.0</td>\n",
       "      <td>0.0</td>\n",
       "      <td>1.0</td>\n",
       "      <td>0.0</td>\n",
       "      <td>1.0</td>\n",
       "      <td>0.0</td>\n",
       "      <td>1.0</td>\n",
       "      <td>0.0</td>\n",
       "      <td>1.0</td>\n",
       "      <td>0.0</td>\n",
       "      <td>1.0</td>\n",
       "      <td>0.0</td>\n",
       "      <td>1.0</td>\n",
       "      <td>0.0</td>\n",
       "    </tr>\n",
       "    <tr>\n",
       "      <th>9</th>\n",
       "      <td>1.0</td>\n",
       "      <td>0.0</td>\n",
       "      <td>1.0</td>\n",
       "      <td>0.0</td>\n",
       "      <td>1.0</td>\n",
       "      <td>0.0</td>\n",
       "      <td>1.0</td>\n",
       "      <td>0.0</td>\n",
       "      <td>1.0</td>\n",
       "      <td>0.0</td>\n",
       "      <td>1.0</td>\n",
       "      <td>0.0</td>\n",
       "      <td>1.0</td>\n",
       "      <td>0.0</td>\n",
       "      <td>1.0</td>\n",
       "      <td>0.0</td>\n",
       "      <td>1.0</td>\n",
       "      <td>0.0</td>\n",
       "    </tr>\n",
       "  </tbody>\n",
       "</table>\n",
       "</div>"
      ],
      "text/plain": [
       "   Fh_stdev=0.001  Ffa_stdev=0.001  Fh_stdev=0.002  Ffa_stdev=0.002  \\\n",
       "0             1.0              0.0             1.0              0.0   \n",
       "1             1.0              0.0             1.0              0.0   \n",
       "2             1.0              0.0             1.0              0.0   \n",
       "3             1.0              0.0             1.0              0.0   \n",
       "4             1.0              0.0             1.0              0.0   \n",
       "5             1.0              0.0             1.0              0.0   \n",
       "6             1.0              0.0             1.0              0.0   \n",
       "7             1.0              0.0             1.0              0.0   \n",
       "8             1.0              0.0             1.0              0.0   \n",
       "9             1.0              0.0             1.0              0.0   \n",
       "\n",
       "   Fh_stdev=0.003  Ffa_stdev=0.003  Fh_stdev=0.005  Ffa_stdev=0.005  \\\n",
       "0             1.0              0.0             1.0              0.0   \n",
       "1             1.0              0.0             1.0              0.0   \n",
       "2             1.0              0.0             1.0              0.0   \n",
       "3             1.0              0.0             1.0              0.0   \n",
       "4             1.0              0.0             1.0              0.0   \n",
       "5             1.0              0.0             1.0              0.0   \n",
       "6             1.0              0.0             1.0              0.0   \n",
       "7             1.0              0.0             1.0              0.0   \n",
       "8             1.0              0.0             1.0              0.0   \n",
       "9             1.0              0.0             1.0              0.0   \n",
       "\n",
       "   Fh_stdev=0.01  Ffa_stdev=0.01  Fh_stdev=0.02  Ffa_stdev=0.02  \\\n",
       "0            1.0             0.0            1.0             0.0   \n",
       "1            1.0             0.0            1.0             0.0   \n",
       "2            1.0             0.0            1.0             0.0   \n",
       "3            1.0             0.0            1.0             0.0   \n",
       "4            1.0             0.0            1.0             0.0   \n",
       "5            1.0             0.0            1.0             0.0   \n",
       "6            1.0             0.0            1.0             0.0   \n",
       "7            1.0             0.0            1.0             0.0   \n",
       "8            1.0             0.0            1.0             0.0   \n",
       "9            1.0             0.0            1.0             0.0   \n",
       "\n",
       "   Fh_stdev=0.03  Ffa_stdev=0.03  Fh_stdev=0.05  Ffa_stdev=0.05  Fh_stdev=0.1  \\\n",
       "0            1.0             0.0            1.0             0.0           1.0   \n",
       "1            1.0             0.0            1.0             0.0           1.0   \n",
       "2            1.0             0.0            1.0             0.0           1.0   \n",
       "3            1.0             0.0            1.0             0.0           1.0   \n",
       "4            1.0             0.0            1.0             0.0           1.0   \n",
       "5            1.0             0.0            1.0             0.0           1.0   \n",
       "6            1.0             0.0            1.0             0.0           1.0   \n",
       "7            1.0             0.0            1.0             0.0           1.0   \n",
       "8            1.0             0.0            1.0             0.0           1.0   \n",
       "9            1.0             0.0            1.0             0.0           1.0   \n",
       "\n",
       "   Ffa_stdev=0.1  \n",
       "0            0.0  \n",
       "1            0.0  \n",
       "2            0.0  \n",
       "3            0.0  \n",
       "4            0.0  \n",
       "5            0.0  \n",
       "6            0.0  \n",
       "7            0.0  \n",
       "8            0.0  \n",
       "9            0.0  "
      ]
     },
     "execution_count": 36,
     "metadata": {},
     "output_type": "execute_result"
    }
   ],
   "source": [
    "# Gather your results into a table of Fh and Ffa versus test-image-ID, with one column per each value of the standard deviation,\n",
    "# tabel\n",
    "std_list_Fh = [\"Fh_stdev=0.001\", \"Fh_stdev=0.002\", \"Fh_stdev=0.003\", \"Fh_stdev=0.005\",\n",
    "            \"Fh_stdev=0.01\", \"Fh_stdev=0.02\", \"Fh_stdev=0.03\", \"Fh_stdev=0.05\", \"Fh_stdev=0.1\"]\n",
    "\n",
    "std_list_Ffa = [\"Ffa_stdev=0.001\", \"Ffa_stdev=0.002\", \"Ffa_stdev=0.003\", \"Ffa_stdev=0.005\",\n",
    "            \"Ffa_stdev=0.01\", \"Ffa_stdev=0.02\", \"Ffa_stdev=0.03\", \"Ffa_stdev=0.05\", \"Ffa_stdev=0.1\"]\n",
    "Fh_dataframe = pd.DataFrame(all_Fh_list_smnn, columns=labels, index=std_list_Fh).T\n",
    "Ffa_dataframe = pd.DataFrame(all_Ffa_list_smnn, columns=labels, index=std_list_Ffa).T\n",
    "Table = pd.DataFrame()\n",
    "\n",
    "for i in range(Fh_dataframe.shape[1]):\n",
    "    Table = pd.concat([Table,Fh_dataframe.iloc[:,i],Ffa_dataframe.iloc[:,i]],axis=1)\n",
    "Table = Table.round(decimals = 2)\n",
    "Table"
   ]
  },
  {
   "cell_type": "code",
   "execution_count": 37,
   "id": "b26281ee",
   "metadata": {
    "ExecuteTime": {
     "end_time": "2022-01-27T19:45:32.554774Z",
     "start_time": "2022-01-27T19:45:31.837405Z"
    }
   },
   "outputs": [
    {
     "data": {
      "text/plain": [
       "Text(0.5, 1.0, '$\\\\bf{Graph}$ $\\\\bf{of}$ $\\\\bf{Fh}$ $\\\\bf{and}$ $\\\\bf{Ffa}$ $\\\\bf{vs.}$ $\\\\bf{Noise}$ $\\\\bf{Standard}$ $\\\\bf{Deviation}$\\nfor noise-corrupted Alphanumeric Imagery (16x16 pixels) for SMNN')"
      ]
     },
     "execution_count": 37,
     "metadata": {},
     "output_type": "execute_result"
    },
    {
     "data": {
      "image/png": "[encoded data removed]",
      "text/plain": [
       "<Figure size 1500x1000 with 1 Axes>"
      ]
     },
     "metadata": {
      "needs_background": "light"
     },
     "output_type": "display_data"
    }
   ],
   "source": [
    "from matplotlib.pyplot import MultipleLocator\n",
    "plt.figure(figsize=[15,10],dpi=100)\n",
    "ax.xaxis.set_major_locator(MultipleLocator(0.01))\n",
    "for i in range(1, len(std_list)):\n",
    "    plt.scatter([std_list[i]] * 10, all_Fh_list_smnn[i], \n",
    "                marker='o', color='black',s=100)\n",
    "    plt.scatter([std_list[i]] * 10, all_Ffa_list_smnn[i], \n",
    "                facecolors='none', edgecolors='black',s=100)\n",
    "plt.ylim(0, 1.20)\n",
    "plt.xlabel(r\"$\\bf{\" + \"Gaussian\" + \"}$\" + \" \" +\n",
    "           r\"$\\bf{\" + \"Noise\" + \"}$\" + \" \" +\n",
    "           r\"$\\bf{\" + \"Level\" + \"}$\" + \" \" +\n",
    "           r\"$\\bf{\" + \"(stdev,\" + \"}$\" + \" \" +\n",
    "           r\"$\\bf{\" + \"10\" + \"}$\" + \" \" +\n",
    "           r\"$\\bf{\" + \"pct\" + \"}$\" + \" \" +\n",
    "           r\"$\\bf{\" + \"xsecn)\" + \"}$\" + \" \", fontsize=15)\n",
    "plt.ylabel(r\"$\\bf{\" + \"Fh\" + \"}$\" + \" \" +\n",
    "           r\"$\\bf{\" + \"and\" + \"}$\" + \" \" +\n",
    "           r\"$\\bf{\" + \"Ffa\" + \"}$\" + \" \", fontsize=15)\n",
    "Fh_dots = Line2D([0], [0], marker='o', color='k', lw=0, markersize=12, markerfacecolor='k', label='Fh')\n",
    "Ffa_dots = Line2D([0], [0], marker='o', color='k', lw=0, markersize=12, markerfacecolor='w', label='Ffa')\n",
    "legend_elements = [Fh_dots, Ffa_dots]\n",
    "plt.legend(handles=legend_elements,fontsize=15,loc='upper right')\n",
    "plt.text(0.02,1.1,\"Training / Test set = { '0', '1', '2', '3', '4', '5', '6', '7', '8', '9}\",\n",
    "         fontsize=15)\n",
    "plt.title(r\"$\\bf{\"+\"Graph\"+\"}$\" + \" \" +\n",
    "          r\"$\\bf{\"+\"of\"+\"}$\" + \" \" +\n",
    "          r\"$\\bf{\"+\"Fh\"+\"}$\" + \" \" +\n",
    "          r\"$\\bf{\"+\"and\"+\"}$\" + \" \" +\n",
    "          r\"$\\bf{\"+\"Ffa\"+\"}$\" + \" \" +\n",
    "          r\"$\\bf{\"+\"vs.\"+\"}$\" + \" \" +\n",
    "          r\"$\\bf{\"+\"Noise\"+\"}$\" + \" \" +\n",
    "          r\"$\\bf{\"+\"Standard\"+\"}$\" + \" \" +\n",
    "          r\"$\\bf{\"+\"Deviation\"+\"}$\" +\n",
    "          \"\\nfor noise-corrupted Alphanumeric Imagery (16x16 pixels) for SMNN\",\n",
    "          fontsize = 15)"
   ]
  }
 ],
 "metadata": {
  "kernelspec": {
   "display_name": "Python 3 (ipykernel)",
   "language": "python",
   "name": "python3"
  },
  "language_info": {
   "codemirror_mode": {
    "name": "ipython",
    "version": 3
   },
   "file_extension": ".py",
   "mimetype": "text/x-python",
   "name": "python",
   "nbconvert_exporter": "python",
   "pygments_lexer": "ipython3",
   "version": "3.8.12"
  },
  "toc": {
   "base_numbering": 1,
   "nav_menu": {},
   "number_sections": true,
   "sideBar": true,
   "skip_h1_title": false,
   "title_cell": "Table of Contents",
   "title_sidebar": "Contents",
   "toc_cell": false,
   "toc_position": {},
   "toc_section_display": true,
   "toc_window_display": false
  },
  "varInspector": {
   "cols": {
    "lenName": 16,
    "lenType": 16,
    "lenVar": 40
   },
   "kernels_config": {
    "python": {
     "delete_cmd_postfix": "",
     "delete_cmd_prefix": "del ",
     "library": "var_list.py",
     "varRefreshCmd": "print(var_dic_list())"
    },
    "r": {
     "delete_cmd_postfix": ") ",
     "delete_cmd_prefix": "rm(",
     "library": "var_list.r",
     "varRefreshCmd": "cat(var_dic_list()) "
    }
   },
   "types_to_exclude": [
    "module",
    "function",
    "builtin_function_or_method",
    "instance",
    "_Feature"
   ],
   "window_display": false
  }
 },
 "nbformat": 4,
 "nbformat_minor": 5
}
